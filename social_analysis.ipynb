{
 "cells": [
  {
   "cell_type": "markdown",
   "metadata": {},
   "source": [
    "# Income Analysis\n",
    "In order to analyze the data of yearly income we use the \"Income in the past 12 months\" table.\n",
    "\n",
    "The table is derived from the \"American Community Survey\" and it could be of two types: \"ACS 5-Year Estimates Subject Tables\" or \"ACS 1-Year Estimates Subject Tables\".\n",
    "The problem is that this two types of tables can be compared: we can compare two \"1-Year\" or two \"5-Years\" that not overlap but we cannot compare a \"1-Year\" and a \"5-Years\".\n",
    "\n",
    "In all the cities the 2020 data is only available in \"5-Years\" table."
   ]
  },
  {
   "cell_type": "code",
   "execution_count": null,
   "metadata": {},
   "outputs": [],
   "source": [
    "import os\n",
    "import pandas as pd\n",
    "import matplotlib.pyplot as plt\n",
    "import numpy as np\n",
    "import seaborn as sns"
   ]
  },
  {
   "cell_type": "code",
   "execution_count": null,
   "metadata": {},
   "outputs": [],
   "source": [
    "def get_incomes(df, city, year):\n",
    "    '''\n",
    "    function to get the incomes from the social data and plot it into a bar charts\n",
    "    '''\n",
    "    \n",
    "    estimates = list()\n",
    "    margins = list()\n",
    "    \n",
    "    for i in range(1, 11):\n",
    "        \n",
    "        for type in ['household', 'family', 'married', 'nonfamily']:\n",
    "            \n",
    "            # obtain the value from the percentage\n",
    "            estimate = float(df[type + '_estimates'][i][:-1])\n",
    "            margin = float(df[type + '_margins'][i][1:-1])\n",
    "            \n",
    "            # append to the list\n",
    "            estimates.append(estimate)\n",
    "            margins.append(margin)\n",
    "    \n",
    "    # plot the data\n",
    "    plt.figure(figsize=(10, 5))\n",
    "    for i in range(4):\n",
    "        plt.bar(np.arange(10) + i * 0.2, estimates[i * 10: (i + 1) * 10], width=0.2, label=['household', 'family', 'married', 'nonfamily'][i])\n",
    "        plt.errorbar(np.arange(10) + i * 0.2, estimates[i * 10: (i + 1) * 10], yerr=margins[i * 10: (i + 1) * 10], fmt='o', color='black', capsize=5)\n",
    "    plt.xticks(np.arange(10), ['<10k', '10-15k', '15-25k', '25-35k', '35-50k', '50-75k', '75-100k', '100-150k', '150-200k', '>200k'])\n",
    "    plt.legend()\n",
    "    plt.title(f'{city} incomes in {year}')\n",
    "    plt.show()"
   ]
  }
 ],
 "metadata": {
  "language_info": {
   "name": "python"
  }
 },
 "nbformat": 4,
 "nbformat_minor": 2
}
